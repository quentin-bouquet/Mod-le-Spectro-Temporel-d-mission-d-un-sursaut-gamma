{
 "cells": [
  {
   "cell_type": "markdown",
   "id": "0a30540e-fc89-4e90-a074-4b7e5959c06b",
   "metadata": {},
   "source": [
    "Notebook pour le projet d'informatique intitulé : « Modèle spectro-temporel d’émission d’un sursaut gamma » "
   ]
  },
  {
   "cell_type": "markdown",
   "id": "ae25edee",
   "metadata": {},
   "source": []
  },
  {
   "cell_type": "code",
   "execution_count": 4,
   "id": "2ab79be4",
   "metadata": {},
   "outputs": [],
   "source": [
    "import scipy\n",
    "import matplotlib.pyplot as plt\n",
    "import math as m\n",
    "import numpy \n"
   ]
  },
  {
   "cell_type": "code",
   "execution_count": 5,
   "id": "81cd1708",
   "metadata": {},
   "outputs": [],
   "source": [
    "#Coefficient d'absorption\n",
    "def nu_zero(p,nu_min):\n",
    "    return ((5*(3*p+2)*scipy.special.gamma(3/2 +p/4)*scipy.special.gamma(11/6 + p/4)*scipy.special.gamma(1/6 + p/4)*scipy.special.gamma(5/6))\n",
    "            /(p + 2)*scipy.special.gamma(2 + p/4))**(6/(3*p + 2))*(2**(3*(3*p-4))/27*(scipy.constants.pi)**(3*p + 8))**(1/3*p + 2)*nu_min\n",
    "\n",
    "\n",
    "def alphap_zero(p, gamma_p_min,Bp,npr,nu_min):\n",
    "    a = (2**6)*(scipy.constants.pi**(5/6))*(p+2)*(p-1)*qe*npr\n",
    "    b = 15*(3*p + 2)*scipy.special.gamma(5/6)*(gamma_p_min**5)*Bp\n",
    "    return (a/b)*((nu_zero(p,nu_min)/nu_min)**(-5/3))\n",
    "\n",
    "def npr(np,p,gamma):\n",
    "    a = (p-2)*mp*eps_e*(gamma - 1)/(p-1)*me\n",
    "    return np*min(1,a)\n",
    "def Bp(e_prime_i):\n",
    "    return numpy.sqrt(8*scipy.constants.pi*epsi_B*e_prime_i)\n",
    "\n",
    "def nu_min(nu_p_c,nu_p_m):\n",
    "    return min(nu_p_c,nu_p_m)\n",
    "\n",
    "def gamma_p_min(gamma_p_c,gamma_p_m):\n",
    "    return min(gamma_p_c,gamma_p_m)\n",
    "\n",
    "def eta(nu_p,p):\n",
    "    if nu_p < nu_zero:\n",
    "        return -5/3\n",
    "    else:\n",
    "        return -(p + 4)/2\n",
    "def nu_p(nu,gamma,mu,beta):\n",
    "    return gamma*(1-beta*mu)*nu\n",
    "\n",
    "def alphap_nup(nu_p,p,nu_min):\n",
    "    return alphap_zero*(nu_p/nu_zero(p,nu_min))**(eta(nu_p))\n",
    "\n",
    "def beta_d(Beta,Beta_sh):\n",
    "    return((Beta_sh - Beta)/(1-Beta*Beta_sh))\n",
    "\n",
    "def gamma_sh(beta_sh):\n",
    "    return 1/numpy.sqrt(1 - beta_sh**2)\n",
    "\n",
    "def n_prime(gamma_p_ch, gamma):\n",
    "    return n0*((gamma_p_ch*gamma + 1)/(gamma_p_ch -1))\n",
    "\n",
    "\n",
    "\n"
   ]
  },
  {
   "cell_type": "code",
   "execution_count": 6,
   "id": "9fe9e942",
   "metadata": {},
   "outputs": [
    {
     "data": {
      "text/plain": [
       "3.141592653589793"
      ]
     },
     "execution_count": 6,
     "metadata": {},
     "output_type": "execute_result"
    }
   ],
   "source": []
  },
  {
   "cell_type": "code",
   "execution_count": null,
   "id": "09d45ccb",
   "metadata": {},
   "outputs": [],
   "source": []
  },
  {
   "cell_type": "code",
   "execution_count": null,
   "id": "d839cf1a",
   "metadata": {},
   "outputs": [],
   "source": []
  },
  {
   "cell_type": "code",
   "execution_count": null,
   "id": "037e7883",
   "metadata": {},
   "outputs": [],
   "source": []
  }
 ],
 "metadata": {
  "kernelspec": {
   "display_name": "Python 3 (ipykernel)",
   "language": "python",
   "name": "python3"
  },
  "language_info": {
   "codemirror_mode": {
    "name": "ipython",
    "version": 3
   },
   "file_extension": ".py",
   "mimetype": "text/x-python",
   "name": "python",
   "nbconvert_exporter": "python",
   "pygments_lexer": "ipython3",
   "version": "3.11.7"
  }
 },
 "nbformat": 4,
 "nbformat_minor": 5
}
